{
 "cells": [
  {
   "cell_type": "code",
   "execution_count": 3,
   "id": "ef024e22-4145-4ae8-a2b2-7ee422543957",
   "metadata": {},
   "outputs": [
    {
     "data": {
      "application/vnd.jupyter.widget-view+json": {
       "model_id": "138c2af029ea46c3a9d912e27fee948d",
       "version_major": 2,
       "version_minor": 0
      },
      "text/plain": [
       "Dropdown(description='Port:', options=('Bergen', 'Drammen', 'Haugesund', 'Kristiansand', 'Larvik', 'Moss', 'Os…"
      ]
     },
     "metadata": {},
     "output_type": "display_data"
    },
    {
     "data": {
      "application/vnd.jupyter.widget-view+json": {
       "model_id": "47e92ac97ccb4ba3930adae88f68c856",
       "version_major": 2,
       "version_minor": 0
      },
      "text/plain": [
       "Button(description='Calculate KPIs', style=ButtonStyle())"
      ]
     },
     "metadata": {},
     "output_type": "display_data"
    },
    {
     "data": {
      "application/vnd.jupyter.widget-view+json": {
       "model_id": "988a0b87049846a8b683b81ae2598a4f",
       "version_major": 2,
       "version_minor": 0
      },
      "text/plain": [
       "Output()"
      ]
     },
     "metadata": {},
     "output_type": "display_data"
    }
   ],
   "source": [
    "import os\n",
    "import pandas as pd\n",
    "import geopandas as gpd\n",
    "from shapely.geometry import Point, Polygon, MultiPolygon\n",
    "import ipywidgets as widgets\n",
    "from IPython.display import display, clear_output\n",
    "\n",
    "# Paste your port_polygons and small_polygons dicts here (if not already)\n",
    "# ── Define your polygons (copy them here) ──\n",
    "port_polygons = {\n",
    "    \"Bergen\": Polygon([(5.3119966,60.4048807),(5.2689096,60.3941969),(5.3233262,60.3710367),(5.3526803,60.3832551),(5.3119966,60.4048807)]),\n",
    "    \"Stavanger\": Polygon([(5.5596949,58.9367236),(5.5461337,58.9152819),(5.5955721,58.9039355),(5.6122233,58.9324718),(5.5596949,58.9367236)]),\n",
    "    \"Kristiansand\": Polygon([(8.0021276,58.157283),(7.9581823,58.1337279),(8.0220403,58.1192246),(8.0388631,58.1449638),(8.0021276,58.157283)]),\n",
    "    \"Haugesund\": Polygon([(5.2809529,59.351359),(5.2675634,59.3426946),(5.2979474,59.3231697),(5.3307347,59.3342031),(5.2809529,59.351359)]),\n",
    "    \"Larvik\":    Polygon([(10.0060228,59.0470095),(10.0200991,59.0198933),(10.0786356,59.03129),(10.0568346,59.0541603),(10.0146059,59.0497464),(10.0060228,59.0470095)]),\n",
    "    \"Moss\":      Polygon([(10.6414806,59.4396391),(10.6102382,59.4125713),(10.6557285,59.4072425),(10.673238,59.4375443),(10.6414806,59.4396391)]),\n",
    "    \"Drammen\":   Polygon([(10.2470522,59.7538991),(10.1914339,59.7347841),(10.2879076,59.7134939),(10.3028421,59.7476728),(10.2470522,59.7538991)]),\n",
    "    \"Oslo\":      Polygon([(10.7220254,59.9127971),(10.6775651,59.9016079),(10.7091508,59.8693961),(10.7781586,59.8841278),(10.7587609,59.9135716),(10.7220254,59.9127971)]),\n",
    "}\n",
    "small_polygons = {\n",
    "    \"Bergen\":      Polygon([(5.3090064,60.3901893),(5.305144,60.3861391),(5.3155724,60.3830215),(5.317643,60.3840554),(5.3189305,60.3850946),(5.3141137,60.387984),(5.3090064,60.3901893)]),\n",
    "    \"Stavanger\":   Polygon([(5.5832126,58.9213942),(5.582998,58.9181596),(5.5870321,58.9179602),(5.5879333,58.9214607),(5.5832126,58.9213942)]),\n",
    "    \"Kristiansand\":Polygon([(7.9882631,58.1412228),(7.9940996,58.1396088),(7.9933915,58.142933),(7.9897759,58.1426895),(7.9882631,58.1412228)]),\n",
    "    \"Haugesund\":   Polygon([(5.3064528,59.3392539),(5.3055086,59.3355661),(5.3117314,59.3362118),(5.3108516,59.3392867),(5.3064528,59.3392539)]),\n",
    "    \"Larvik\":      Polygon([(10.044119,59.0404963),(10.0424238,59.0412138),(10.0354715,59.0382223),(10.0383683,59.036743),(10.044119,59.0404963)]),\n",
    "    \"Moss\":        Polygon([(10.6538617,59.4303284),(10.6530463,59.4250242),(10.6580674,59.4250242),(10.6580245,59.4302192),(10.6538617,59.4303284)]),\n",
    "    \"Drammen\":     Polygon([(10.2376171,59.7395407),(10.2351281,59.73581),(10.2404066,59.7355504),(10.2401921,59.7394758),(10.2376171,59.7395407)]),\n",
    "    \"Oslo\":        MultiPolygon([\n",
    "                       Polygon([(10.7198972,59.9088206),(10.7098765,59.9057866),(10.7111854,59.9042049),(10.7217855,59.9079599),(10.7198972,59.9088206)]),\n",
    "                       Polygon([(10.7448538,59.8860217),(10.7451757,59.8829641),(10.7670625,59.8834271),(10.765775,59.8860217),(10.7625349,59.8877442),(10.7448538,59.8860217)])\n",
    "                   ])\n",
    "}\n",
    "# Detect available ports\n",
    "csv_ports = [f[:-4] for f in os.listdir('.') if f.endswith('.csv') and f[:-4] in port_polygons]\n",
    "\n",
    "# Jupyter widget for port selection\n",
    "port_selector = widgets.Dropdown(\n",
    "    options=csv_ports,\n",
    "    value=csv_ports[0] if csv_ports else None,\n",
    "    description='Port:'\n",
    ")\n",
    "button = widgets.Button(description=\"Calculate KPIs\")\n",
    "output = widgets.Output()\n",
    "display(port_selector, button, output)\n",
    "\n",
    "def parse_datetime(dt):\n",
    "    try:\n",
    "        return pd.to_datetime(dt)\n",
    "    except:\n",
    "        return pd.NaT\n",
    "\n",
    "def find_event_periods(series):\n",
    "    # Finds start and end indices of True blocks\n",
    "    changes = series.ne(series.shift()).cumsum()\n",
    "    groups = series.groupby(changes)\n",
    "    periods = []\n",
    "    for _, group in groups:\n",
    "        if group.iloc[0]:\n",
    "            periods.append((group.index[0], group.index[-1]))\n",
    "    return periods\n",
    "\n",
    "def on_button_clicked(b):\n",
    "    with output:\n",
    "        clear_output()\n",
    "        port = port_selector.value\n",
    "        if not port:\n",
    "            print(\"No port selected.\")\n",
    "            return\n",
    "        file = f\"{port}.csv\"\n",
    "        if not os.path.exists(file):\n",
    "            print(f\"File {file} not found.\")\n",
    "            return\n",
    "\n",
    "        print(f\"Processing {port}...\")\n",
    "\n",
    "        # Load data\n",
    "        usecols = ['date_time_utc','mmsi','longitude','latitude','speed_over_ground']\n",
    "        df = pd.read_csv(file, usecols=usecols)\n",
    "        df['geometry'] = [Point(xy) for xy in zip(df.longitude, df.latitude)]\n",
    "        df['date_time_utc'] = pd.to_datetime(df['date_time_utc'], errors='coerce')\n",
    "        df = df.sort_values(['mmsi', 'date_time_utc'])\n",
    "        gdf = gpd.GeoDataFrame(df, geometry='geometry', crs='EPSG:4326')\n",
    "\n",
    "        # Fast vectorized spatial checks\n",
    "        port_poly = port_polygons[port]\n",
    "        berth_poly = small_polygons[port]\n",
    "        gdf['in_port'] = gdf['geometry'].within(port_poly)\n",
    "        if isinstance(berth_poly, MultiPolygon):\n",
    "            gdf['in_berth'] = gdf['geometry'].apply(lambda p: any(poly.contains(p) for poly in berth_poly.geoms))\n",
    "        else:\n",
    "            gdf['in_berth'] = gdf['geometry'].within(berth_poly)\n",
    "        gdf['at_berth'] = gdf['in_berth'] & (gdf['speed_over_ground'] < 0.5)\n",
    "\n",
    "        # Efficient event detection per vessel\n",
    "        result_rows = []\n",
    "        for mmsi, vessel_df in gdf.groupby('mmsi'):\n",
    "            vessel_df = vessel_df.reset_index(drop=True)\n",
    "            # Find visits (in_port blocks)\n",
    "            visit_periods = find_event_periods(vessel_df['in_port'])\n",
    "            visit_num = 0\n",
    "            for start_idx, end_idx in visit_periods:\n",
    "                visit_num += 1\n",
    "                visit = vessel_df.loc[start_idx:end_idx]\n",
    "                entry = visit['date_time_utc'].iloc[0]\n",
    "                exit = visit['date_time_utc'].iloc[-1]\n",
    "                turnaround = (exit-entry).total_seconds()/3600\n",
    "\n",
    "                # Find berthing within this visit\n",
    "                berth_periods = find_event_periods(visit['at_berth'])\n",
    "                total_berth_time = 0\n",
    "                waiting_time = None\n",
    "                first_berth_start = None\n",
    "                if berth_periods:\n",
    "                    for b_start, b_end in berth_periods:\n",
    "                        berth = visit.iloc[b_start:b_end+1]\n",
    "                        b_start_time = berth['date_time_utc'].iloc[0]\n",
    "                        b_end_time = berth['date_time_utc'].iloc[-1]\n",
    "                        total_berth_time += (b_end_time - b_start_time).total_seconds()/3600\n",
    "                        if first_berth_start is None:\n",
    "                            first_berth_start = b_start_time\n",
    "                    waiting_time = (first_berth_start - entry).total_seconds()/3600 if first_berth_start else None\n",
    "                else:\n",
    "                    total_berth_time = 0\n",
    "\n",
    "                result_rows.append({\n",
    "                    'mmsi': mmsi,\n",
    "                    'visit': visit_num,\n",
    "                    'entry': entry,\n",
    "                    'exit': exit,\n",
    "                    'turnaround_hrs': turnaround,\n",
    "                    'total_berth_hrs': total_berth_time,\n",
    "                    'waiting_hrs': waiting_time,\n",
    "                })\n",
    "        result_df = pd.DataFrame(result_rows)\n",
    "        if not result_df.empty:\n",
    "            display(result_df)\n",
    "            print(f\"Total vessel visits: {result_df['visit'].count()}\")\n",
    "            print(f\"Average turnaround time (hrs): {result_df['turnaround_hrs'].mean():.2f}\")\n",
    "            print(f\"Median waiting time (hrs): {result_df['waiting_hrs'].median():.2f}\")\n",
    "            print(f\"Average berth occupancy per visit (hrs): {result_df['total_berth_hrs'].mean():.2f}\")\n",
    "        else:\n",
    "            print(\"No visits found for this port.\")\n",
    "\n",
    "button.on_click(on_button_clicked)\n"
   ]
  },
  {
   "cell_type": "code",
   "execution_count": null,
   "id": "fd2e8904-a82d-496b-abdb-e15e2e2d670a",
   "metadata": {},
   "outputs": [],
   "source": []
  }
 ],
 "metadata": {
  "kernelspec": {
   "display_name": "Python 3 (ipykernel)",
   "language": "python",
   "name": "python3"
  },
  "language_info": {
   "codemirror_mode": {
    "name": "ipython",
    "version": 3
   },
   "file_extension": ".py",
   "mimetype": "text/x-python",
   "name": "python",
   "nbconvert_exporter": "python",
   "pygments_lexer": "ipython3",
   "version": "3.12.3"
  }
 },
 "nbformat": 4,
 "nbformat_minor": 5
}
